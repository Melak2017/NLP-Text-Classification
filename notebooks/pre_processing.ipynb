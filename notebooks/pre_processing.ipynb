{
 "cells": [
  {
   "cell_type": "markdown",
   "id": "4a33b498",
   "metadata": {},
   "source": [
    "***\n",
    "# Pre Process\n",
    "***"
   ]
  },
  {
   "cell_type": "markdown",
   "id": "8f748ad4",
   "metadata": {},
   "source": [
    "### <font color='saddlebrown'> Import Packages</font>"
   ]
  },
  {
   "cell_type": "code",
   "execution_count": 1,
   "id": "df51b269",
   "metadata": {},
   "outputs": [],
   "source": [
    "# Standard library imports\n",
    "import re\n",
    "\n",
    "# Basic library imports\n",
    "import pandas as pd\n",
    "import pickle\n",
    "import wikipediaapi\n",
    "import mwparserfromhell\n",
    "import nltk\n",
    "from sklearn.feature_extraction.text import CountVectorizer, TfidfVectorizer\n",
    "from sklearn.model_selection import train_test_split\n",
    "from sklearn.naive_bayes import MultinomialNB\n",
    "from sklearn.preprocessing import LabelEncoder\n",
    "from sklearn.metrics import classification_report\n",
    "\n",
    "# NLTK submodules and functions\n",
    "from nltk.corpus import stopwords, wordnet\n",
    "from nltk.stem import PorterStemmer, WordNetLemmatizer\n",
    "from nltk.tokenize import word_tokenize, sent_tokenize\n",
    "\n",
    "\n",
    "from sklearn.feature_extraction.text import TfidfVectorizer\n",
    "from sklearn.preprocessing import LabelEncoder\n",
    "from sklearn.model_selection import train_test_split\n",
    "from sklearn.metrics import classification_report\n",
    "from sklearn.linear_model import LogisticRegression, RidgeClassifier\n",
    "from sklearn.neighbors import KNeighborsClassifier\n",
    "from sklearn.tree import DecisionTreeClassifier\n",
    "from sklearn.svm import SVC\n",
    "from sklearn.ensemble import RandomForestClassifier, AdaBoostClassifier, BaggingClassifier\n",
    "from sklearn.naive_bayes import GaussianNB\n",
    "from sklearn.discriminant_analysis import QuadraticDiscriminantAnalysis\n",
    "import pandas as pd\n"
   ]
  },
  {
   "cell_type": "markdown",
   "id": "fd5d46ca",
   "metadata": {},
   "source": [
    "### <font color='saddlebrown'> Fetch from Wikipedia</font>"
   ]
  },
  {
   "cell_type": "code",
   "execution_count": 7,
   "id": "74143e1b",
   "metadata": {},
   "outputs": [
    {
     "name": "stdout",
     "output_type": "stream",
     "text": [
      "{'title': 'Cardiology', 'text': 'Cardiology (from Ancient Greek  καρδίᾱ (kardiā) \\'heart\\', and  -λογία (-logia) \\'study\\') is the study of the heart. Cardiology is a branch of medicine that deals with disorders of the heart and the cardiovascular system. The field includes medical diagnosis and treatment of congenital heart defects, coronary artery disease, heart failure, valvular heart disease, and electrophysiology. Physicians who specialize in this field of medicine are called cardiologists, a specialty of internal medicine. Pediatric cardiologists are pediatricians who specialize in cardiology. Physicians who specialize in cardiac surgery are called cardiothoracic surgeons or cardiac surgeons, a specialty of general surgery.\\n\\nSpecializations\\nAll cardiologists in the branch of medicine study the disorders of the heart, but the study of adult and child heart disorders each require different training pathways. Therefore, an adult cardiologist (often simply called \"cardiologist\") is inadequately trained to take care of children, and pediatric cardiologists are not trained to treat adult heart disease. Surgical aspects are not included in cardiology and are in the domain of cardiothoracic surgery. For example, coronary artery bypass surgery (CABG), cardiopulmonary bypass and valve replacement are surgical procedures performed by surgeons, not cardiologists. However, some minimally invasive procedures such as cardiac catheterization and pacemaker implantation are performed by cardiologists who have additional training in non-surgical interventions (interventional cardiology and electrophysiology respectively).\\n\\nAdult cardiology\\nCardiology is a specialty of internal medicine. To be a cardiologist in the United States, a three-year residency in internal medicine is followed by a three-year fellowship in cardiology. It is possible to specialize further in a sub-specialty. Recognized sub-specialties in the U.S. by the Accreditation Council for Graduate Medical Education are cardiac electrophysiology, echocardiography, interventional cardiology, and nuclear cardiology. Recognized subspecialties in the U.S. by the American Osteopathic Association Bureau of Osteopathic Specialists include clinical cardiac electrophysiology and interventional cardiology. In India, a three-year residency in General Medicine or Pediatrics after M.B.B.S. and then three years of residency in cardiology are needed to be a D.M./Diplomate of National Board (DNB) in Cardiology.Per Doximity, adult cardiologists earn an average of $436,849 per year in the U.S.\\n\\nCardiac electrophysiology\\nCardiac electrophysiology is the science of elucidating, diagnosing, and treating the electrical activities of the heart. The term is usually used to describe studies of such phenomena by invasive (intracardiac) catheter recording of spontaneous activity as well as of cardiac responses to programmed electrical stimulation (PES). These studies are performed to assess complex arrhythmias, elucidate symptoms, evaluate abnormal electrocardiograms, assess risk of developing arrhythmias in the future, and design treatment.  These procedures increasingly include therapeutic methods (typically radiofrequency ablation, or cryoablation) in addition to diagnostic and prognostic procedures.  Other therapeutic modalities employed in this field include antiarrhythmic drug therapy and implantation of pacemakers and automatic implantable cardioverter-defibrillators (AICD).The cardiac electrophysiology study typically measures the response of the injured or cardiomyopathic myocardium to PES on specific pharmacological regimens in order to assess the likelihood that the regimen will successfully prevent potentially fatal sustained ventricular tachycardia (VT) or ventricular fibrillation (VF) in the future. Sometimes a series of electrophysiology-study drug trials must be conducted to enable the cardiologist to select the one regimen for long-term treatment that best prevents or slows the development of VT or VF following PES. Such studies may also be conducted in the presence of a newly implanted or newly replaced cardiac pacemaker or AICD.\\n\\nClinical cardiac electrophysiology\\nClinical cardiac electrophysiology is a branch of the medical specialty of cardiology and is concerned with the study and treatment of rhythm disorders of the heart. Cardiologists with expertise in this area are usually referred to as electrophysiologists. Electrophysiologists are trained in the mechanism, function, and performance of the electrical activities of the heart. Electrophysiologists work closely with other cardiologists and cardiac surgeons to assist or guide therapy for heart rhythm disturbances (arrhythmias). They are trained to perform interventional and surgical procedures to treat cardiac arrhythmia.The training required to become an electrophysiologist is long and requires 8 years after medical school (within the U.S.). Three years of internal medicine residency, three years of cardiology fellowship, and two years of clinical cardiac electrophysiology.\\n\\nCardiogeriatrics\\nCardiogeriatrics, or geriatric cardiology, is the branch of cardiology and geriatric medicine that deals with the cardiovascular disorders in elderly people.\\nCardiac disorders such as coronary heart disease, including myocardial infarction, heart failure, cardiomyopathy, and arrhythmias such as atrial fibrillation, are common and are a major cause of mortality in elderly people. Vascular disorders such as atherosclerosis and peripheral arterial disease cause significant morbidity and mortality in aged people.\\n\\nImaging\\nCardiac imaging includes echocardiography (echo), cardiac magnetic resonance imaging (CMR), and computed tomography of the heart.\\nThose who specialize in cardiac imaging may undergo more training in all imaging modes or focus on a single imaging modality.\\nEchocardiography (or \"echo\") uses standard two-dimensional, three-dimensional, and Doppler ultrasound to create images of the heart.\\nThose who specialize in echo may spend a significant amount of their clinical time reading echos and performing transesophageal echo, in particular using the latter during procedures such as insertion of a left atrial appendage occlusion device.\\nCardiac MRI utilizes special protocols to image heart structure and function with specific sequences for certain diseases such as hemochromatosis and amyloidosis.\\nCardiac CT utilizes special protocols to image heart structure and function with particular emphasis on coronary arteries.\\n\\nInterventional cardiology\\nInterventional cardiology is a branch of cardiology that deals specifically with the catheter based treatment of structural heart diseases. A large number of procedures can be performed on the heart by catheterization, including angiogram, angioplasty, atherectomy, and stent implantation. These procedures all involve insertion of a sheath into the femoral artery or radial artery (but, in practice, any large peripheral artery or vein) and cannulating the heart under X-ray visualization (most commonly fluoroscopy). This cannulation allows indirect access to the heart, bypassing the trauma caused by surgical opening of the chest.\\nThe main advantages of using the interventional cardiology or radiology approach are the avoidance of the scars and pain, and long post-operative recovery. Additionally, interventional cardiology procedure of primary angioplasty is now the gold standard of care for an acute myocardial infarction. This procedure can also be done proactively, when areas of the vascular system become occluded from atherosclerosis. The Cardiologist will thread this sheath through the vascular system to access the heart. This sheath has a balloon and a tiny wire mesh tube wrapped around it, and if the cardiologist finds a blockage or stenosis, they can inflate the balloon at the occlusion site in the vascular system to flatten or compress the plaque against the vascular wall. Once that is complete a stent is placed as a type of scaffold to hold the vasculature open permanently.\\n\\nCardiomyopathy/heart failure\\nSpecialization of general cardiology to just that of the cardiomyopathies leads to also specializing in heart transplant and pulmonary hypertension. Cardiomyopathy is a heart disease of the heart muscle, where the heart muscle becomes inflamed and thick.\\n\\nCardiooncology\\nA recent specialization of cardiology is that of cardiooncology.\\nThis area specializes in the cardiac management in those with cancer and, in particular, those with plans for chemotherapy or whom have experienced cardiac complications of chemotherapy.\\n\\nPreventive cardiology and cardiac rehabilitation\\nIn recent times, the focus is gradually shifting to preventive cardiology due to increased cardiovascular disease burden at an early age. According to the WHO, 37% of all premature deaths are due to cardiovascular diseases and out of this, 82% are in low and middle income countries. Clinical cardiology is the sub specialty of cardiology which looks after preventive cardiology and cardiac rehabilitation. Preventive cardiology also deals with routine preventive checkup though noninvasive tests, specifically electrocardiography, fasegraphy, stress tests, lipid profile and general physical examination to detect any cardiovascular diseases at an early age, while cardiac rehabilitation is the upcoming branch of cardiology which helps a person regain their overall strength and live a normal life after a cardiovascular event. A subspecialty of preventive cardiology is sports cardiology. Because heart disease is the leading cause of death in the world including United States (cdc.gov), national health campaigns and randomized control research has developed to improve heart health.\\n\\nPediatric cardiology\\nHelen B. Taussig is known as the founder of pediatric cardiology. She became famous through her work with Tetralogy congenital heart defect in which oxygenated and deoxygenated blood enters the circulatory system resulting from a ventricular septal defect (VSD) right beneath the aorta. This condition causes newborns to have a bluish-tint, cyanosis, and have a deficiency of oxygen to their tissues, hypoxemia. She worked with Alfred Blalock and Vivien Thomas at the Johns Hopkins Hospital where they experimented with dogs to look at how they would attempt to surgically cure these \"blue babies\". They eventually figured out how to do just that by the anastomosis of the systemic artery to the pulmonary artery and called this the Blalock-Taussig Shunt.Tetralogy of Fallot, pulmonary atresia, double outlet right ventricle, transposition of the great arteries, persistent truncus arteriosus, and Ebstein\\'s anomaly are various congenital cyanotic heart diseases, in which the blood of the newborn is not oxygenated efficiently, due to the heart defect.\\n\\nAdult congenital heart disease\\nAs more children with congenital heart disease are surviving into adulthood, a hybrid of adult & pediatric cardiology has emerged called adult congenital heart disease (ACHD).\\nThis field can be entered as either adult or pediatric cardiology.\\nACHD specializes in congenital diseases in the setting of adult diseases (e.g., coronary artery disease, COPD, diabetes) that is, otherwise, atypical for adult or pediatric cardiology.\\n\\nThe heart\\nAs the center focus of cardiology, the heart has numerous anatomical features (e.g., atria, ventricles, heart valves) and numerous physiological features (e.g., systole, heart sounds, afterload) that have been encyclopedically documented for many centuries. The heart is located in the middle of the abdomen with its tip slightly towards the left side of the abdomen.\\nDisorders of the heart lead to heart disease and cardiovascular disease and can lead to a significant number of deaths: cardiovascular disease is the leading cause of death in the U.S. and caused 24.95% of total deaths in 2008.The primary responsibility of the heart is to pump blood throughout the body.\\nIt pumps blood from the body — called the systemic circulation — through the lungs — called the pulmonary circulation — and then back out to the body.\\nThis means that the heart is connected to and affects the entirety of the body. Simplified, the heart is a circuit of the circulation.\\nWhile plenty is known about the healthy heart, the bulk of study in cardiology is in disorders of the heart and restoration, and where possible, of function.\\nThe heart is a muscle that squeezes blood and functions like a pump. The heart\\'s systems can be classified as either electrical or mechanical, and both of these systems are susceptible to failure or dysfunction.\\nThe electrical system of the heart is centered on the periodic contraction (squeezing) of the muscle cells that is caused by the cardiac pacemaker located in the sinoatrial node.\\nThe study of the electrical aspects is a sub-field of electrophysiology called cardiac electrophysiology and is epitomized with the electrocardiogram (ECG/EKG).\\nThe action potentials generated in the pacemaker propagate throughout the heart in a specific pattern. The system that carries this potential is called the electrical conduction system.\\nDysfunction of the electrical system manifests in many ways and may include Wolff–Parkinson–White syndrome, ventricular fibrillation, and heart block.The mechanical system of the heart is centered on the fluidic movement of blood and the functionality of the heart as a pump.\\nThe mechanical part is ultimately the purpose of the heart and many of the disorders of the heart disrupt the ability to move blood.\\nHeart failure is one condition in which the mechanical properties of the heart have failed or are failing, which means insufficient blood is being circulated. Failure to move a sufficient amount of blood through the body can cause damage or failure of other organs and may result in death if severe.\\n\\nCoronary circulation\\nCoronary circulation is the circulation of blood in the blood vessels of the heart muscle (the myocardium). The vessels that deliver oxygen-rich blood to the myocardium are known as coronary arteries. The vessels that remove the deoxygenated blood from the heart muscle are known as cardiac veins. These include the great cardiac vein, the middle cardiac vein, the small cardiac vein and the anterior cardiac veins.\\nAs the left and right coronary arteries run on the surface of the heart, they can be called epicardial coronary arteries. These arteries, when healthy, are capable of autoregulation to maintain coronary blood flow at levels appropriate to the needs of the heart muscle. These relatively narrow vessels are commonly affected by atherosclerosis and can become blocked, causing angina or myocardial infarction (a.k.a a heart attack). The coronary arteries that run deep within the myocardium are referred to as subendocardial.\\nThe coronary arteries are classified as \"end circulation\", since they represent the only source of blood supply to the myocardium; there is very little redundant blood supply, which is why blockage of these vessels can be so critical.\\n\\nCardiac examination\\nThe cardiac examination (also called the \"precordial exam\"), is performed as part of a physical examination, or when a patient presents with chest pain suggestive of a cardiovascular pathology. It would typically be modified depending on the indication and integrated with other examinations especially the respiratory examination.Like all medical examinations, the cardiac examination follows the standard structure of inspection, palpation and auscultation.\\n\\nHeart disorders\\nCardiology is concerned with the normal functionality of the heart and the deviation from a healthy heart. Many disorders involve the heart itself, but some are outside of the heart and in the vascular system. Collectively, the two are jointly termed the cardiovascular system, and diseases of one part tend to affect the other.\\n\\nCoronary artery disease\\nCoronary artery disease, also known as \"ischemic heart disease\", is a group of diseases that includes: stable angina, unstable angina, myocardial infarction, and is one of the causes of sudden cardiac death. It is within the group of cardiovascular diseases of which it is the most common type. A common symptom is chest pain or discomfort which may travel into the shoulder, arm, back, neck, or jaw. Occasionally it may feel like heartburn. Usually symptoms occur with exercise or emotional stress, last less than a few minutes, and get better with rest. Shortness of breath may also occur and sometimes no symptoms are present. The first sign is occasionally a heart attack. Other complications include heart failure or an irregular heartbeat.Risk factors include: high blood pressure, smoking, diabetes, lack of exercise, obesity, high blood cholesterol, poor diet, and excessive alcohol, among others. Other risks include depression. The underlying mechanism involves atherosclerosis of the arteries of the heart. A number of tests may help with diagnoses including: electrocardiogram, cardiac stress testing, coronary computed tomographic angiography, and coronary angiogram, among others.Prevention is by eating a healthy diet, regular exercise, maintaining a healthy weight and not smoking. Sometimes medication for diabetes, high cholesterol, or high blood pressure are also used. There is limited evidence for screening people who are at low risk and do not have symptoms. Treatment involves the same measures as prevention. Additional medications such as antiplatelets including aspirin, beta blockers, or nitroglycerin may be recommended. Procedures such as percutaneous coronary intervention (PCI) or coronary artery bypass surgery (CABG) may be used in severe disease. In those with stable CAD it is unclear if PCI or CABG in addition to the other treatments improve life expectancy or decreases heart attack risk.In 2013 CAD was the most common cause of death globally, resulting in 8.14 million deaths (16.8%) up from 5.74 million deaths (12%) in 1990. The risk of death from CAD for a given age has decreased between 1980 and 2010 especially in developed countries. The number of cases of CAD for a given age has also decreased between 1990 and 2010. In the U.S. in 2010 about 20% of those over 65 had CAD, while it was present in 7% of those 45 to 64, and 1.3% of those 18 to 45. Rates are higher among men than women of a given age.\\n\\nCardiomyopathy\\nHeart failure or formally cardiomyopathy, is the impaired function of the heart and there are numerous causes and forms of heart failure.\\n\\nCardiac arrhythmia\\nCardiac arrhythmia, also known as \"cardiac dysrhythmia\" or \"irregular heartbeat\", is a group of conditions in which the heartbeat is too fast, too slow, or irregular in its rhythm. A heart rate that is too fast – above 100 beats per minute in adults – is called tachycardia. A heart rate that is too slow – below 60 beats per minute – is called bradycardia. Many types of arrhythmia present no symptoms. When symptoms are present, they may include palpitations, or feeling a pause between heartbeats. More serious symptoms may include lightheadedness, passing out, shortness of breath, or chest pain. While most types of arrhythmia are not serious, some predispose a person to complications such as stroke or heart failure. Others may result in cardiac arrest.There are four main types of arrhythmia: extra beats, supraventricular tachycardias, ventricular arrhythmias, and bradyarrhythmias. Extra beats include premature atrial contractions, premature ventricular contractions, and premature junctional contractions. Supraventricular tachycardias include atrial fibrillation, atrial flutter, and paroxysmal supraventricular tachycardia. Ventricular arrhythmias include ventricular fibrillation and ventricular tachycardia. Arrhythmias are due to problems with the electrical conduction system of the heart. Arrhythmias may occur in children; however, the normal range for the heart rate is different and depends on age. A number of tests can help diagnose arrhythmia, including an electrocardiogram and Holter monitor.Most arrhythmias can be effectively treated. Treatments may include medications, medical procedures such as a pacemaker, and surgery. Medications for a fast heart rate may include beta blockers or agents that attempt to restore a normal heart rhythm such as procainamide. This later group may have more significant side effects especially if taken for a long period of time. Pacemakers are often used for slow heart rates. Those with an irregular heartbeat are often treated with blood thinners to reduce the risk of complications. Those who have severe symptoms from an arrhythmia may receive urgent treatment with a jolt of electricity in the form of cardioversion or defibrillation.Arrhythmia affects millions of people. In Europe and North America, as of 2014, atrial fibrillation affects about 2% to 3% of the population. Atrial fibrillation and atrial flutter resulted in 112,000 deaths in 2013, up from 29,000 in 1990. Sudden cardiac death is the cause of about half of deaths due to cardiovascular disease or about 15% of all deaths globally. About 80% of sudden cardiac death is the result of ventricular arrhythmias. Arrhythmias may occur at any age but are more common among older people.\\n\\nCardiac arrest\\nCardiac arrest is a sudden stop in effective blood flow due to the failure of the heart to contract effectively. Symptoms include loss of consciousness and abnormal or absent breathing. Some people may have chest pain, shortness of breath, or nausea before this occurs. If not treated within minutes, death usually occurs.The most common cause of cardiac arrest is coronary artery disease. Less common causes include major blood loss, lack of oxygen, very low potassium, heart failure, and intense physical exercise. A number of inherited disorders may also increase the risk including long QT syndrome. The initial heart rhythm is most often ventricular fibrillation. The diagnosis is confirmed by finding no pulse. While a cardiac arrest may be caused by heart attack or heart failure these are not the same.Prevention includes not smoking, physical activity, and maintaining a healthy weight. Treatment for cardiac arrest is immediate cardiopulmonary resuscitation (CPR) and, if a shockable rhythm is present, defibrillation. Among those who survive targeted temperature management may improve outcomes. An implantable cardiac defibrillator may be placed to reduce the chance of death from recurrence.In the United States, cardiac arrest outside of hospital occurs in about 13 per 10,000 people per year (326,000 cases). In hospital cardiac arrest occurs in an additional 209,000 Cardiac arrest becomes more common with age. It affects males more often than females. The percentage of people who survive with treatment is about 8%. Many who survive have significant disability. Many U.S. television shows, however, have portrayed unrealistically high survival rates of 67%.\\n\\nHypertension\\nHypertension, also known as \"high blood pressure\", is a long term medical condition in which the blood pressure in the arteries is persistently elevated. High blood pressure usually does not cause symptoms. Long term high blood pressure, however, is a major risk factor for coronary artery disease, stroke, heart failure, peripheral vascular disease, vision loss, and chronic kidney disease.Lifestyle factors can increase the risk of hypertension. These include excess salt in the diet, excess body weight, smoking, and alcohol consumption. Hypertension can also be caused by other diseases, or occur as a side-effect of drugs.Blood pressure is expressed by two measurements, the systolic and diastolic pressures, which are the maximum and minimum pressures, respectively. Normal blood pressure when at rest is within the range of 100–140 millimeters mercury (mmHg) systolic and 60–90 mmHg diastolic. High blood pressure is present if the resting blood pressure is persistently at or above 140/90 mmHg for most adults. Different numbers apply to children. When diagnosing high blood pressure, ambulatory blood pressure monitoring over a 24-hour period appears to be more accurate than \"in-office\" blood pressure measurement at a physician\\'s office or other blood pressure screening location.Lifestyle changes and medications can lower blood pressure and decrease the risk of health complications. Lifestyle changes include weight loss, decreased salt intake, physical exercise, and a healthy diet. If changes in lifestyle are insufficient, blood pressure medications may be used. A regimen of up to three medications effectively controls blood pressure in 90% of people. The treatment of moderate to severe high arterial blood pressure (defined as >160/100 mmHg) with medication is associated with an improved life expectancy and reduced morbidity. The effect of treatment for blood pressure between 140/90 mmHg and 160/100 mmHg is less clear, with some studies finding benefits while others do not. High blood pressure affects between 16% and 37% of the population globally. In 2010, hypertension was believed to have been a factor in 18% (9.4 million) deaths.\\n\\nEssential vs Secondary hypertension\\nEssential hypertension is the form of hypertension that by definition has no identifiable cause. It is the most common type of hypertension, affecting 95% of hypertensive patients, it tends to be familial and is likely to be the consequence of an interaction between environmental and genetic factors. Prevalence of essential hypertension increases with age, and individuals with relatively high blood pressure at younger ages are at increased risk for the subsequent development of hypertension.\\nHypertension can increase the risk of cerebral, cardiac, and renal events.Secondary hypertension is a type of hypertension which is caused by an identifiable underlying secondary cause. It is much less common than essential hypertension, affecting only 5% of hypertensive patients. It has many different causes including endocrine diseases, kidney diseases, and tumors. It also can be a side effect of many medications.\\n\\nComplications of hypertension\\nComplications of hypertension are clinical outcomes that result from persistent elevation of blood pressure. Hypertension is a risk factor for all clinical manifestations of atherosclerosis since it is a risk factor for atherosclerosis itself. It is an independent predisposing factor for heart failure, coronary artery disease, stroke, renal disease, and peripheral arterial disease. It is the most important risk factor for cardiovascular morbidity and mortality, in industrialized countries.\\n\\nCongenital heart defects\\nA congenital heart defect, also known as a \"congenital heart anomaly\" or \"congenital heart disease\", is a problem in the structure of the heart that is present at birth. Signs and symptoms depend on the specific type of problem. Symptoms can vary from none to life-threatening. When present they may include rapid breathing, bluish skin, poor weight gain, and feeling tired. It does not cause chest pain. Most congenital heart problems do not occur with other diseases. Complications that can result from heart defects include heart failure.The cause of a congenital heart defect is often unknown. Certain cases may be due to infections during pregnancy such as rubella, use of certain medications or drugs such as alcohol or tobacco, parents being closely related, or poor nutritional status or obesity in the mother. Having a parent with a congenital heart defect is also a risk factor. A number of genetic conditions are associated with heart defects including Down syndrome, Turner syndrome, and Marfan syndrome. Congenital heart defects are divided into two main groups: cyanotic heart defects and non-cyanotic heart defects, depending on whether the child has the potential to turn bluish in color. The problems may involve the interior walls of the heart, the heart valves, or the large blood vessels that lead to and from the heart.Congenital heart defects are partly preventable through rubella vaccination, the adding of iodine to salt, and the adding of folic acid to certain food products. Some defects do not need treatment. Other may be effectively treated with catheter based procedures or heart surgery. Occasionally a number of operations may be needed. Occasionally heart transplantation is required. With appropriate treatment outcomes, even with complex problems, are generally good.Heart defects are the most common birth defect. In 2013 they were present in 34.3 million people globally. They affect between 4 and 75 per 1,000 live births depending upon how they are diagnosed. About 6 to 19 per 1,000 cause a moderate to severe degree of problems. Congenital heart defects are the leading cause of birth defect-related deaths. In 2013 they resulted in 323,000 deaths down from 366,000 deaths in 1990.\\n\\nTetralogy of Fallot\\nTetralogy of Fallot is the most common congenital heart disease arising in 1–3 cases per 1,000 births. The cause of this defect is a ventricular septal defect (VSD) and an overriding aorta. These two defects combined causes deoxygenated blood to bypass the lungs and going right back into the circulatory system. The modified Blalock-Taussig shunt is usually used to fix the circulation. This procedure is done by placing a graft between the subclavian artery and the ipsilateral pulmonary artery to restore the correct blood flow.\\n\\nPulmonary atresia\\nPulmonary atresia happens in 7–8 per 100,000 births and is characterized by the aorta branching out of the right ventricle. This causes the deoxygenated blood to bypass the lungs and enter the circulatory system. Surgeries can fix this by redirecting the aorta and fixing the right ventricle and pulmonary artery connection.\\nThere are two types of pulmonary atresia, classified by whether or not the baby also has a ventricular septal defect.\\nPulmonary atresia with an intact ventricular septum: This type of pulmonary atresia is associated with complete and intact septum between the ventricles.\\nPulmonary atresia with a ventricular septal defect: This type of pulmonary atresia happens when a ventricular septal defect allows blood to flow into and out of the right ventricle.\\n\\nDouble outlet right ventricle\\nDouble outlet right ventricle (DORV) is when both great arteries, the pulmonary artery and the aorta, are connected to the right ventricle. There is usually a VSD in different particular places depending on the variations of DORV, typically 50% are subaortic and 30%. The surgeries that can be done to fix this defect can vary due to the different physiology and blood flow in the defected heart. One way it can be cured is by a VSD closure and placing conduits to restart the blood flow between the left ventricle and the aorta and between the right ventricle and the pulmonary artery. Another way is systemic-to-pulmonary artery shunt in cases associated with pulmonary stenosis. Also, a balloon atrial septostomy can be done to relieve hypoxemia caused by DORV with the Taussig-Bing anomaly while surgical correction is awaited.\\n\\nTransposition of great arteries\\nThere are two different types of transposition of the great arteries, Dextro-transposition of the great arteries and Levo-transposition of the great arteries, depending on where the chambers and vessels connect. Dextro-transposition happens in about 1 in 4,000 newborns and is when the right ventricle pumps blood into the aorta and deoxygenated blood enters the bloodstream. The temporary procedure is to create an atrial septal defect. A permanent fix is more complicated and involves redirecting the pulmonary return to the right atrium and the systemic return to the left atrium, which is known as the Senning procedure. The Rastelli procedure can also be done by rerouting the left ventricular outflow, dividing the pulmonary trunk, and placing a conduit in between the right ventricle and pulmonary trunk. Levo-transposition happens in about 1 in 13,000 newborns and is characterized by the left ventricle pumping blood into the lungs and the right ventricle pumping the blood into the aorta. This may not produce problems at the beginning, but will eventually due to the different pressures each ventricle uses to pump blood. Switching the left ventricle to be the systemic ventricle and the right ventricle to pump blood into the pulmonary artery can repair levo-transposition.\\n\\nPersistent truncus arteriosus\\nPersistent truncus arteriosus is when the truncus arteriosus fails to split into the aorta and pulmonary trunk. This occurs in about 1 in 11,000 live births and allows both oxygenated and deoxygenated blood into the body. The repair consists of a VSD closure and the Rastelli procedure.\\n\\nEbstein anomaly\\nEbstein\\'s anomaly is characterized by a right atrium that is significantly enlarged and a heart that is shaped like a box. This is very rare and happens in less than 1% of congenital heart disease cases. The surgical repair varies depending on the severity of the disease.Pediatric cardiology is a sub-specialty of pediatrics. To become a pediatric cardiologist in the U.S., one must complete a three-year residency in pediatrics, followed by a three-year fellowship in pediatric cardiology. Per doximity, pediatric cardiologists make an average of $303,917 in the U.S.\\n\\nDiagnostic tests in cardiology\\nDiagnostic tests in cardiology are the methods of identifying heart conditions associated with healthy vs. unhealthy, pathologic heart function. The starting point is obtaining a medical history, followed by Auscultation. Then blood tests, electrophysiological procedures, and cardiac imaging can be ordered for further analysis. Electrophysiological procedures include electrocardiogram, cardiac monitoring, cardiac stress testing, and the electrophysiology study.\\n\\nTrials\\nCardiology is known for randomized controlled trials that guide clinical treatment of cardiac diseases. While dozens are published every year, there are landmark trials that shift treatment significantly. Trials often have an acronym of the trial name, and this acronym is used to reference the trial and its results. Some of these landmark trials include:\\n\\nV-HeFT (1986) — use of vasodilators (hydralazine & isosorbide dinitrate) in heart failure\\nISIS-2 (1988) — use of aspirin in myocardial infarction\\nCASE I (1991) — use of antiarrhythmic agents after a heart attack increases mortality\\nSOLVD (1991) — use of ACE inhibitors in heart failure\\n4S (1994) — statins reduce risk of heart disease\\nCURE (1991) — use of dual antiplatelet therapy in NSTEMI\\nMIRACLE (2002) — use of cardiac resynchronization therapy in heart failure\\nSCD-HeFT (2005) — the use of implantable cardioverter-defibrillator in heart failure\\nRELY (2009), ROCKET-AF (2011), ARISTOTLE (2011) — use of DOACs in atrial fibrillation instead of warfarin\\nISCHEMIA (2020) — medical therapy is as good as coronary stents in stable heart disease\\n\\nCardiology community\\nAssociations\\nAmerican College of Cardiology\\nAmerican Heart Association\\nEuropean Society of Cardiology\\nHeart Rhythm Society\\nCanadian Cardiovascular Society\\nIndian Heart Association\\nNational Heart Foundation of Australia\\nCardiology Society of India\\n\\nJournals\\nActa Cardiologica\\nAmerican Journal of Cardiology\\nAnnals of Cardiac Anaesthesia\\nCurrent Research: Cardiology\\nCardiology in Review\\nCirculation\\nCirculation Research\\nClinical and Experimental Hypertension\\nClinical Cardiology\\nEP – Europace\\nEuropean Heart Journal\\nHeart\\nHeart Rhythm\\nInternational Journal of Cardiology\\nJournal of the American College of Cardiology\\nPacing and Clinical Electrophysiology\\nIndian Heart Journal\\n\\nCardiologists\\nRobert Atkins (1930–2003), known for the Atkins diet\\nEugene Braunwald (born 1929), editor of Braunwald\\'s Heart Disease and 1000+ publications\\nWallace Brigden (1916–2008), identified cardiomyopathy\\nManoj Durairaj (1971– ), cardiologist from Pune, India who received Pro Ecclesia et Pontifice\\nWillem Einthoven (1860–1927), a physiologist who built the first practical ECG and won the 1924 Nobel Prize in Physiology or Medicine (\"for the discovery of the mechanism of the electrocardiogram\")\\nWerner Forssmann (1904–1979), who infamously performed the first human catheterization on himself that led to him being let go from Berliner Charité Hospital, quitting cardiology as a speciality, and then winning the 1956 Nobel Prize in Physiology or Medicine  (\"for their discoveries concerning heart catheterization and pathological changes in the circulatory system\")\\nAndreas Gruentzig (1939–1985), first developed balloon angioplasty\\nWilliam Harvey (1578–1657), wrote Exercitatio Anatomica de Motu Cordis et Sanguinis in Animalibus that first described the closed circulatory system and whom Forssmann described as founding cardiology in his Nobel lecture\\nMurray S. Hoffman (1924–2018) As president of the Colorado Heart Association, he initiated one of the first jogging programs promoting cardiac health\\nMax Holzmann (1899–1994), co-founder of the Swiss Society of Cardiology, president from 1952 to 1955\\nSamuel A. Levine (1891–1966), recognized the sign known as Levine\\'s sign as well as the current grading of the intensity of heart murmurs, known as the Levine scale\\nHenry Joseph Llewellyn \"Barney\" Marriott (1917–2007), ECG interpretation and Practical Electrocardiography\\nBernard Lown (1921–2021), original developer of the defibrillator\\nWoldemar Mobitz (1889–1951), described and classified the two types of second-degree atrioventricular block often called \"Mobitz Type I\" and \"Mobitz Type II\"\\nJacqueline Noonan (1928–2020), discoverer of Noonan syndrome that is the top syndromic cause of congenital heart disease\\nJohn Parkinson (1885–1976), known for Wolff–Parkinson–White syndrome\\nHelen B. Taussig (1898–1986), founder of pediatric cardiology and extensively worked on blue baby syndrome\\nPaul Dudley White (1886–1973), known for Wolff–Parkinson–White syndrome\\nFredrick Arthur Willius (1888–1972), founder of the cardiology department at the Mayo Clinic and an early pioneer of electrocardiography\\nLouis Wolff (1898–1972), known for Wolff–Parkinson–White syndrome\\nKarel Frederik Wenckebach (1864–1940), first described what is now called type I second-degree atrioventricular block in 1898\\n\\nSee also\\nGlossary of medicine\\nList of cardiac pharmaceutical agents\\nOutline of cardiology\\n\\nReferences\\nSources\\nBraunwald, Eugene, ed. (2019). Braunwald\\'s Heart Disease: A Textbook of Cardiovascular Medicine. Elsevier. ISBN 978-0-323-46299-0.\\nRamrakha, Punit; Hill, Jonathan, eds. (2012). Oxford Handbook of Cardiology (2nd ed.). Oxford University Press. ISBN 978-0-19-964321-9.\\n\\nExternal links\\n\\nAmerican Heart Association', 'categories': ['Category:All articles to be expanded', 'Category:All articles with unsourced statements', 'Category:Articles to be expanded from November 2021', 'Category:Articles using small message boxes', 'Category:Articles with BNF identifiers', 'Category:Articles with BNFdata identifiers', 'Category:Articles with GND identifiers', 'Category:Articles with J9U identifiers', 'Category:Articles with LCCN identifiers', 'Category:Articles with LNB identifiers', 'Category:Articles with NARA identifiers', 'Category:Articles with NKC identifiers', 'Category:Articles with short description', 'Category:Articles with unsourced statements from April 2021', 'Category:Articles with unsourced statements from February 2023', 'Category:CS1 Polish-language sources (pl)', 'Category:Cardiology', 'Category:Short description is different from Wikidata'], 'infobox': None}\n"
     ]
    }
   ],
   "source": [
    "\n",
    "# Define a proper user agent\n",
    "user_agent = \"MyApp/1.0 (melakemekonnen100@gmail.com)\"\n",
    "\n",
    "# Initialize the Wikipedia object with the user agent\n",
    "wiki_wiki = wikipediaapi.Wikipedia(\n",
    "    language='en',\n",
    "    user_agent=user_agent\n",
    ")\n",
    "\n",
    "def get_wiki_page(title):\n",
    "    page = wiki_wiki.page(title)\n",
    "    wikicode = mwparserfromhell.parse(page.text)\n",
    "    infobox = None\n",
    "    for template in wikicode.filter_templates():\n",
    "        if template.name.strip().lower().startswith(\"infobox\"):\n",
    "            infobox = template\n",
    "            break\n",
    "    \n",
    "    return {\n",
    "        \"title\": title,\n",
    "        \"text\": page.text,\n",
    "        \"categories\": list(page.categories.keys()),\n",
    "        \"infobox\": str(infobox) if infobox else None\n",
    "    }\n",
    "\n",
    "# Test the function\n",
    "example_topic = 'Cardiology'\n",
    "page_data = get_wiki_page(example_topic)\n",
    "print(page_data)\n"
   ]
  },
  {
   "cell_type": "markdown",
   "id": "9a463d70",
   "metadata": {},
   "source": [
    "### <font color='saddlebrown'> Text Preprocessing with NLTK</font>"
   ]
  },
  {
   "cell_type": "code",
   "execution_count": 8,
   "id": "d6a300a1",
   "metadata": {},
   "outputs": [
    {
     "name": "stderr",
     "output_type": "stream",
     "text": [
      "[nltk_data] Downloading package punkt to /home/melak/nltk_data...\n",
      "[nltk_data]   Package punkt is already up-to-date!\n",
      "[nltk_data] Downloading package stopwords to /home/melak/nltk_data...\n",
      "[nltk_data]   Package stopwords is already up-to-date!\n"
     ]
    }
   ],
   "source": [
    "\n",
    "nltk.download('punkt')\n",
    "nltk.download('stopwords')\n",
    "\n",
    "def preprocess_text(text):\n",
    "    # Tokenize and remove stopwords\n",
    "    stop_words = set(stopwords.words('english'))\n",
    "    words = word_tokenize(text)\n",
    "    filtered_words = [word for word in words if word.lower() not in stop_words and word.isalpha()]\n",
    "\n",
    "    # Stemming\n",
    "    stemmer = PorterStemmer()\n",
    "    stemmed_words = [stemmer.stem(word) for word in filtered_words]\n",
    "    \n",
    "    return ' '.join(stemmed_words)\n",
    "\n",
    "# Apply preprocessing to the article text\n",
    "processed_text = preprocess_text(page_data['text'])\n"
   ]
  },
  {
   "cell_type": "code",
   "execution_count": 9,
   "id": "5ca76c95",
   "metadata": {},
   "outputs": [
    {
     "data": {
      "text/plain": [
       "'cardiolog ancient greek καρδίᾱ kardiā studi heart cardiolog branch medicin deal disord heart cardiovascular system field includ medic diagnosi treatment congenit heart defect coronari arteri diseas heart failur valvular heart diseas electrophysiolog physician special field medicin call cardiologist specialti intern medicin pediatr cardiologist pediatrician special cardiolog physician special cardiac surgeri call cardiothorac surgeon cardiac surgeon specialti gener surgeri special cardiologist branch medicin studi disord heart studi adult child heart disord requir differ train pathway therefor adult cardiologist often simpli call cardiologist inadequ train take care children pediatr cardiologist train treat adult heart diseas surgic aspect includ cardiolog domain cardiothorac surgeri exampl coronari arteri bypass surgeri cabg cardiopulmonari bypass valv replac surgic procedur perform surgeon cardiologist howev minim invas procedur cardiac catheter pacemak implant perform cardiologist addit train intervent intervent cardiolog electrophysiolog respect adult cardiolog cardiolog specialti intern medicin cardiologist unit state resid intern medicin follow fellowship cardiolog possibl special recogn accredit council graduat medic educ cardiac electrophysiolog echocardiographi intervent cardiolog nuclear cardiolog recogn subspecialti american osteopath associ bureau osteopath specialist includ clinic cardiac electrophysiolog intervent cardiolog india resid gener medicin pediatr three year resid cardiolog need nation board dnb doxim adult cardiologist earn averag per year cardiac electrophysiolog cardiac electrophysiolog scienc elucid diagnos treat electr activ heart term usual use describ studi phenomena invas intracardiac cathet record spontan activ well cardiac respons program electr stimul pe studi perform assess complex arrhythmia elucid symptom evalu abnorm electrocardiogram assess risk develop arrhythmia futur design treatment procedur increasingli includ therapeut method typic radiofrequ ablat cryoablat addit diagnost prognost procedur therapeut modal employ field includ antiarrhythm drug therapi implant pacemak automat implant aicd cardiac electrophysiolog studi typic measur respons injur cardiomyopath myocardium pe specif pharmacolog regimen order assess likelihood regimen success prevent potenti fatal sustain ventricular tachycardia vt ventricular fibril vf futur sometim seri drug trial must conduct enabl cardiologist select one regimen treatment best prevent slow develop vt vf follow pe studi may also conduct presenc newli implant newli replac cardiac pacemak aicd clinic cardiac electrophysiolog clinic cardiac electrophysiolog branch medic specialti cardiolog concern studi treatment rhythm disord heart cardiologist expertis area usual refer electrophysiologist electrophysiologist train mechan function perform electr activ heart electrophysiologist work close cardiologist cardiac surgeon assist guid therapi heart rhythm disturb arrhythmia train perform intervent surgic procedur treat cardiac train requir becom electrophysiologist long requir year medic school within three year intern medicin resid three year cardiolog fellowship two year clinic cardiac electrophysiolog cardiogeriatr cardiogeriatr geriatr cardiolog branch cardiolog geriatr medicin deal cardiovascular disord elderli peopl cardiac disord coronari heart diseas includ myocardi infarct heart failur cardiomyopathi arrhythmia atrial fibril common major caus mortal elderli peopl vascular disord atherosclerosi peripher arteri diseas caus signific morbid mortal age peopl imag cardiac imag includ echocardiographi echo cardiac magnet reson imag cmr comput tomographi heart special cardiac imag may undergo train imag mode focu singl imag modal echocardiographi echo use standard doppler ultrasound creat imag heart special echo may spend signific amount clinic time read echo perform transesophag echo particular use latter procedur insert left atrial appendag occlus devic cardiac mri util special protocol imag heart structur function specif sequenc certain diseas hemochromatosi amyloidosi cardiac ct util special protocol imag heart structur function particular emphasi coronari arteri intervent cardiolog intervent cardiolog branch cardiolog deal specif cathet base treatment structur heart diseas larg number procedur perform heart catheter includ angiogram angioplasti atherectomi stent implant procedur involv insert sheath femor arteri radial arteri practic larg peripher arteri vein cannul heart visual commonli fluoroscopi cannul allow indirect access heart bypass trauma caus surgic open chest main advantag use intervent cardiolog radiolog approach avoid scar pain long recoveri addit intervent cardiolog procedur primari angioplasti gold standard care acut myocardi infarct procedur also done proactiv area vascular system becom occlud atherosclerosi cardiologist thread sheath vascular system access heart sheath balloon tini wire mesh tube wrap around cardiologist find blockag stenosi inflat balloon occlus site vascular system flatten compress plaqu vascular wall complet stent place type scaffold hold vasculatur open perman failur special gener cardiolog cardiomyopathi lead also special heart transplant pulmonari hypertens cardiomyopathi heart diseas heart muscl heart muscl becom inflam thick cardiooncolog recent special cardiolog cardiooncolog area special cardiac manag cancer particular plan chemotherapi experienc cardiac complic chemotherapi prevent cardiolog cardiac rehabilit recent time focu gradual shift prevent cardiolog due increas cardiovascular diseas burden earli age accord prematur death due cardiovascular diseas low middl incom countri clinic cardiolog sub specialti cardiolog look prevent cardiolog cardiac rehabilit prevent cardiolog also deal routin prevent checkup though noninvas test specif electrocardiographi fasegraphi stress test lipid profil gener physic examin detect cardiovascular diseas earli age cardiac rehabilit upcom branch cardiolog help person regain overal strength live normal life cardiovascular event subspecialti prevent cardiolog sport cardiolog heart diseas lead caus death world includ unit state nation health campaign random control research develop improv heart health pediatr cardiolog helen taussig known founder pediatr cardiolog becam famou work tetralog congenit heart defect oxygen deoxygen blood enter circulatori system result ventricular septal defect vsd right beneath aorta condit caus newborn cyanosi defici oxygen tissu hypoxemia work alfr blalock vivien thoma john hopkin hospit experi dog look would attempt surgic cure blue babi eventu figur anastomosi system arteri pulmonari arteri call fallot pulmonari atresia doubl outlet right ventricl transposit great arteri persist truncu arteriosu ebstein anomali variou congenit cyanot heart diseas blood newborn oxygen effici due heart defect adult congenit heart diseas children congenit heart diseas surviv adulthood hybrid adult pediatr cardiolog emerg call adult congenit heart diseas achd field enter either adult pediatr cardiolog achd special congenit diseas set adult diseas coronari arteri diseas copd diabet otherwis atyp adult pediatr cardiolog heart center focu cardiolog heart numer anatom featur atria ventricl heart valv numer physiolog featur systol heart sound afterload encycloped document mani centuri heart locat middl abdomen tip slightli toward left side abdomen disord heart lead heart diseas cardiovascular diseas lead signific number death cardiovascular diseas lead caus death caus total death primari respons heart pump blood throughout bodi pump blood bodi call system circul lung call pulmonari circul back bodi mean heart connect affect entireti bodi simplifi heart circuit circul plenti known healthi heart bulk studi cardiolog disord heart restor possibl function heart muscl squeez blood function like pump heart system classifi either electr mechan system suscept failur dysfunct electr system heart center period contract squeez muscl cell caus cardiac pacemak locat sinoatri node studi electr aspect electrophysiolog call cardiac electrophysiolog epitom electrocardiogram action potenti gener pacemak propag throughout heart specif pattern system carri potenti call electr conduct system dysfunct electr system manifest mani way may includ syndrom ventricular fibril heart mechan system heart center fluidic movement blood function heart pump mechan part ultim purpos heart mani disord heart disrupt abil move blood heart failur one condit mechan properti heart fail fail mean insuffici blood circul failur move suffici amount blood bodi caus damag failur organ may result death sever coronari circul coronari circul circul blood blood vessel heart muscl myocardium vessel deliv blood myocardium known coronari arteri vessel remov deoxygen blood heart muscl known cardiac vein includ great cardiac vein middl cardiac vein small cardiac vein anterior cardiac vein left right coronari arteri run surfac heart call epicardi coronari arteri arteri healthi capabl autoregul maintain coronari blood flow level appropri need heart muscl rel narrow vessel commonli affect atherosclerosi becom block caus angina myocardi infarct heart attack coronari arteri run deep within myocardium refer subendocardi coronari arteri classifi end circul sinc repres sourc blood suppli myocardium littl redund blood suppli blockag vessel critic cardiac examin cardiac examin also call precordi exam perform part physic examin patient present chest pain suggest cardiovascular patholog would typic modifi depend indic integr examin especi respiratori medic examin cardiac examin follow standard structur inspect palpat auscult heart disord cardiolog concern normal function heart deviat healthi heart mani disord involv heart outsid heart vascular system collect two jointli term cardiovascular system diseas one part tend affect coronari arteri diseas coronari arteri diseas also known ischem heart diseas group diseas includ stabl angina unstabl angina myocardi infarct one caus sudden cardiac death within group cardiovascular diseas common type common symptom chest pain discomfort may travel shoulder arm back neck jaw occasion may feel like heartburn usual symptom occur exercis emot stress last less minut get better rest short breath may also occur sometim symptom present first sign occasion heart attack complic includ heart failur irregular factor includ high blood pressur smoke diabet lack exercis obes high blood cholesterol poor diet excess alcohol among other risk includ depress underli mechan involv atherosclerosi arteri heart number test may help diagnos includ electrocardiogram cardiac stress test coronari comput tomograph angiographi coronari angiogram among eat healthi diet regular exercis maintain healthi weight smoke sometim medic diabet high cholesterol high blood pressur also use limit evid screen peopl low risk symptom treatment involv measur prevent addit medic antiplatelet includ aspirin beta blocker nitroglycerin may recommend procedur percutan coronari intervent pci coronari arteri bypass surgeri cabg may use sever diseas stabl cad unclear pci cabg addit treatment improv life expect decreas heart attack cad common caus death global result million death million death risk death cad given age decreas especi develop countri number case cad given age also decreas cad present rate higher among men women given age cardiomyopathi heart failur formal cardiomyopathi impair function heart numer caus form heart failur cardiac arrhythmia cardiac arrhythmia also known cardiac dysrhythmia irregular heartbeat group condit heartbeat fast slow irregular rhythm heart rate fast beat per minut adult call tachycardia heart rate slow beat per minut call bradycardia mani type arrhythmia present symptom symptom present may includ palpit feel paus heartbeat seriou symptom may includ lightheaded pass short breath chest pain type arrhythmia seriou predispos person complic stroke heart failur other may result cardiac four main type arrhythmia extra beat supraventricular tachycardia ventricular arrhythmia bradyarrhythmia extra beat includ prematur atrial contract prematur ventricular contract prematur junction contract supraventricular tachycardia includ atrial fibril atrial flutter paroxysm supraventricular tachycardia ventricular arrhythmia includ ventricular fibril ventricular tachycardia arrhythmia due problem electr conduct system heart arrhythmia may occur children howev normal rang heart rate differ depend age number test help diagnos arrhythmia includ electrocardiogram holter arrhythmia effect treat treatment may includ medic medic procedur pacemak surgeri medic fast heart rate may includ beta blocker agent attempt restor normal heart rhythm procainamid later group may signific side effect especi taken long period time pacemak often use slow heart rate irregular heartbeat often treat blood thinner reduc risk complic sever symptom arrhythmia may receiv urgent treatment jolt electr form cardiovers affect million peopl europ north america atrial fibril affect popul atrial fibril atrial flutter result death sudden cardiac death caus half death due cardiovascular diseas death global sudden cardiac death result ventricular arrhythmia arrhythmia may occur age common among older peopl cardiac arrest cardiac arrest sudden stop effect blood flow due failur heart contract effect symptom includ loss conscious abnorm absent breath peopl may chest pain short breath nausea occur treat within minut death usual common caus cardiac arrest coronari arteri diseas less common caus includ major blood loss lack oxygen low potassium heart failur intens physic exercis number inherit disord may also increas risk includ long qt syndrom initi heart rhythm often ventricular fibril diagnosi confirm find puls cardiac arrest may caus heart attack heart failur includ smoke physic activ maintain healthi weight treatment cardiac arrest immedi cardiopulmonari resuscit cpr shockabl rhythm present defibril among surviv target temperatur manag may improv outcom implant cardiac defibril may place reduc chanc death unit state cardiac arrest outsid hospit occur per peopl per year case hospit cardiac arrest occur addit cardiac arrest becom common age affect male often femal percentag peopl surviv treatment mani surviv signific disabl mani televis show howev portray unrealist high surviv rate hypertens hypertens also known high blood pressur long term medic condit blood pressur arteri persist elev high blood pressur usual caus symptom long term high blood pressur howev major risk factor coronari arteri diseas stroke heart failur peripher vascular diseas vision loss chronic kidney factor increas risk hypertens includ excess salt diet excess bodi weight smoke alcohol consumpt hypertens also caus diseas occur pressur express two measur systol diastol pressur maximum minimum pressur respect normal blood pressur rest within rang millimet mercuri mmhg systol mmhg diastol high blood pressur present rest blood pressur persist mmhg adult differ number appli children diagnos high blood pressur ambulatori blood pressur monitor period appear accur blood pressur measur physician offic blood pressur screen chang medic lower blood pressur decreas risk health complic lifestyl chang includ weight loss decreas salt intak physic exercis healthi diet chang lifestyl insuffici blood pressur medic may use regimen three medic effect control blood pressur peopl treatment moder sever high arteri blood pressur defin mmhg medic associ improv life expect reduc morbid effect treatment blood pressur mmhg mmhg less clear studi find benefit other high blood pressur affect popul global hypertens believ factor million death essenti vs secondari hypertens essenti hypertens form hypertens definit identifi caus common type hypertens affect hypertens patient tend famili like consequ interact environment genet factor preval essenti hypertens increas age individu rel high blood pressur younger age increas risk subsequ develop hypertens hypertens increas risk cerebr cardiac renal hypertens type hypertens caus identifi underli secondari caus much less common essenti hypertens affect hypertens patient mani differ caus includ endocrin diseas kidney diseas tumor also side effect mani medic complic hypertens complic hypertens clinic outcom result persist elev blood pressur hypertens risk factor clinic manifest atherosclerosi sinc risk factor atherosclerosi independ predispos factor heart failur coronari arteri diseas stroke renal diseas peripher arteri diseas import risk factor cardiovascular morbid mortal industri countri congenit heart defect congenit heart defect also known congenit heart anomali congenit heart diseas problem structur heart present birth sign symptom depend specif type problem symptom vari none present may includ rapid breath bluish skin poor weight gain feel tire caus chest pain congenit heart problem occur diseas complic result heart defect includ heart caus congenit heart defect often unknown certain case may due infect pregnanc rubella use certain medic drug alcohol tobacco parent close relat poor nutrit statu obes mother parent congenit heart defect also risk factor number genet condit associ heart defect includ syndrom turner syndrom marfan syndrom congenit heart defect divid two main group cyanot heart defect heart defect depend whether child potenti turn bluish color problem may involv interior wall heart heart valv larg blood vessel lead heart defect partli prevent rubella vaccin ad iodin salt ad folic acid certain food product defect need treatment may effect treat cathet base procedur heart surgeri occasion number oper may need occasion heart transplant requir appropri treatment outcom even complex problem gener defect common birth defect present million peopl global affect per live birth depend upon diagnos per caus moder sever degre problem congenit heart defect lead caus birth death result death death tetralog fallot tetralog fallot common congenit heart diseas aris case per birth caus defect ventricular septal defect vsd overrid aorta two defect combin caus deoxygen blood bypass lung go right back circulatori system modifi shunt usual use fix circul procedur done place graft subclavian arteri ipsilater pulmonari arteri restor correct blood flow pulmonari atresia pulmonari atresia happen per birth character aorta branch right ventricl caus deoxygen blood bypass lung enter circulatori system surgeri fix redirect aorta fix right ventricl pulmonari arteri connect two type pulmonari atresia classifi whether babi also ventricular septal defect pulmonari atresia intact ventricular septum type pulmonari atresia associ complet intact septum ventricl pulmonari atresia ventricular septal defect type pulmonari atresia happen ventricular septal defect allow blood flow right ventricl doubl outlet right ventricl doubl outlet right ventricl dorv great arteri pulmonari arteri aorta connect right ventricl usual vsd differ particular place depend variat dorv typic subaort surgeri done fix defect vari due differ physiolog blood flow defect heart one way cure vsd closur place conduit restart blood flow left ventricl aorta right ventricl pulmonari arteri anoth way arteri shunt case associ pulmonari stenosi also balloon atrial septostomi done reliev hypoxemia caus dorv anomali surgic correct await transposit great arteri two differ type transposit great arteri great arteri great arteri depend chamber vessel connect happen newborn right ventricl pump blood aorta deoxygen blood enter bloodstream temporari procedur creat atrial septal defect perman fix complic involv redirect pulmonari return right atrium system return left atrium known sen procedur rastelli procedur also done rerout left ventricular outflow divid pulmonari trunk place conduit right ventricl pulmonari trunk happen newborn character left ventricl pump blood lung right ventricl pump blood aorta may produc problem begin eventu due differ pressur ventricl use pump blood switch left ventricl system ventricl right ventricl pump blood pulmonari arteri repair persist truncu arteriosu persist truncu arteriosu truncu arteriosu fail split aorta pulmonari trunk occur live birth allow oxygen deoxygen blood bodi repair consist vsd closur rastelli procedur ebstein anomali ebstein anomali character right atrium significantli enlarg heart shape like box rare happen less congenit heart diseas case surgic repair vari depend sever cardiolog pediatr becom pediatr cardiologist one must complet resid pediatr follow fellowship pediatr cardiolog per doxim pediatr cardiologist make averag diagnost test cardiolog diagnost test cardiolog method identifi heart condit associ healthi unhealthi patholog heart function start point obtain medic histori follow auscult blood test electrophysiolog procedur cardiac imag order analysi electrophysiolog procedur includ electrocardiogram cardiac monitor cardiac stress test electrophysiolog studi trial cardiolog known random control trial guid clinic treatment cardiac diseas dozen publish everi year landmark trial shift treatment significantli trial often acronym trial name acronym use refer trial result landmark trial includ use vasodil hydralazin isosorbid dinitr heart failur use aspirin myocardi infarct case use antiarrhythm agent heart attack increas mortal solvd use ace inhibitor heart failur statin reduc risk heart diseas cure use dual antiplatelet therapi nstemi miracl use cardiac resynchron therapi heart failur use implant heart failur reli aristotl use doac atrial fibril instead warfarin ischemia medic therapi good coronari stent stabl heart diseas cardiolog commun associ american colleg cardiolog american heart associ european societi cardiolog heart rhythm societi canadian cardiovascular societi indian heart associ nation heart foundat australia cardiolog societi india journal acta cardiologica american journal cardiolog annal cardiac anaesthesia current research cardiolog cardiolog review circul circul research clinic experiment hypertens clinic cardiolog ep europac european heart journal heart heart rhythm intern journal cardiolog journal american colleg cardiolog pace clinic electrophysiolog indian heart journal cardiologist robert atkin known atkin diet eugen braunwald born editor braunwald heart diseas public wallac brigden identifi cardiomyopathi manoj durairaj cardiologist pune india receiv pro ecclesia et pontific willem einthoven physiologist built first practic ecg nobel prize physiolog medicin discoveri mechan electrocardiogram werner forssmann infam perform first human catheter led let go berlin charité hospit quit cardiolog special win nobel prize physiolog medicin discoveri concern heart catheter patholog chang circulatori system andrea gruentzig first develop balloon angioplasti william harvey wrote exercitatio anatomica de motu cordi et sanguini animalibu first describ close circulatori system forssmann describ found cardiolog nobel lectur murray hoffman presid colorado heart associ initi one first jog program promot cardiac health max holzmann swiss societi cardiolog presid samuel levin recogn sign known levin sign well current grade intens heart murmur known levin scale henri joseph llewellyn barney marriott ecg interpret practic electrocardiographi bernard lown origin develop defibril woldemar mobitz describ classifi two type atrioventricular block often call mobitz type mobitz type ii jacquelin noonan discover noonan syndrom top syndrom caus congenit heart diseas john parkinson known syndrom helen taussig founder pediatr cardiolog extens work blue babi syndrom paul dudley white known syndrom fredrick arthur williu founder cardiolog depart mayo clinic earli pioneer electrocardiographi loui wolff known syndrom karel frederik wenckebach first describ call type atrioventricular block see also glossari medicin list cardiac pharmaceut agent outlin cardiolog refer sourc braunwald eugen ed braunwald heart diseas textbook cardiovascular medicin elsevi isbn ramrakha punit hill jonathan ed oxford handbook cardiolog oxford univers press isbn extern link american heart associ'"
      ]
     },
     "execution_count": 9,
     "metadata": {},
     "output_type": "execute_result"
    }
   ],
   "source": [
    "processed_text"
   ]
  },
  {
   "cell_type": "code",
   "execution_count": 17,
   "id": "5200f7aa",
   "metadata": {},
   "outputs": [],
   "source": [
    "# Initialize a CountVectorizer and transform the processed text into a vector\n",
    "vectorizer = CountVectorizer()\n",
    "X = vectorizer.fit_transform([processed_text])\n"
   ]
  },
  {
   "cell_type": "code",
   "execution_count": 18,
   "id": "02d1aca4",
   "metadata": {},
   "outputs": [],
   "source": [
    "medical_topics = [\n",
    "    \"Cardiology\", \"Neurology\", \"Oncology\", \"Pediatrics\", \"Dermatology\",\n",
    "    \"Endocrinology\", \"Gastroenterology\", \"Hematology\", \"Nephrology\",\n",
    "    \"Ophthalmology\", \"Otolaryngology\", \"Pulmonology\", \"Rheumatology\",\n",
    "    \"Urology\", \"Psychiatry\", \"Immunology\", \"Anesthesiology\", \"Radiology\",\n",
    "    \"Pathology\", \"Infectious Disease\", \"Obstetrics\", \"Gynecology\",\n",
    "    \"Geriatrics\", \"Orthopedics\", \"Surgery\", \"Virology\", \"Cardiothoracic Surgery\",\n",
    "    \"Neonatology\", \"Pharmacology\", \"Nuclear Medicine\", \"Emergency Medicine\",\n",
    "    \"Dental Surgery\", \"Podiatry\", \"Occupational Therapy\", \"Physical Therapy\"\n",
    "]\n",
    "\n",
    "non_medical_topics = [\n",
    "    \"History\", \"Geography\", \"Technology\", \"Art\", \"Literature\", \"Economics\",\n",
    "    \"Physics\", \"Chemistry\", \"Biology\", \"Mathematics\", \"Environmental Science\",\n",
    "    \"Political Science\", \"Philosophy\", \"Music\", \"Astronomy\", \"Linguistics\",\n",
    "    \"Sociology\", \"Archaeology\", \"Anthropology\", \"Psychology\", \"Computer Science\",\n",
    "    \"Engineering\", \"Education\", \"Media Studies\", \"Culinary Arts\", \"Architecture\",\n",
    "    \"Cinema\", \"Fashion Design\", \"Graphic Design\", \"Urban Planning\", \"Photography\",\n",
    "    \"Theater\", \"Dance\", \"Folklore\", \"Library Science\", \"Journalism\"\n",
    "]\n"
   ]
  },
  {
   "cell_type": "markdown",
   "id": "031406d8",
   "metadata": {},
   "source": [
    "\n",
    "### <font color='saddlebrown'> Wikipedia Data Extraction and Text Preprocessing</font>"
   ]
  },
  {
   "cell_type": "code",
   "execution_count": 20,
   "id": "bbcd766c",
   "metadata": {},
   "outputs": [
    {
     "name": "stderr",
     "output_type": "stream",
     "text": [
      "[nltk_data] Downloading package punkt to /home/melak/nltk_data...\n",
      "[nltk_data]   Package punkt is already up-to-date!\n",
      "[nltk_data] Downloading package stopwords to /home/melak/nltk_data...\n",
      "[nltk_data]   Package stopwords is already up-to-date!\n"
     ]
    },
    {
     "data": {
      "text/html": [
       "<div>\n",
       "<style scoped>\n",
       "    .dataframe tbody tr th:only-of-type {\n",
       "        vertical-align: middle;\n",
       "    }\n",
       "\n",
       "    .dataframe tbody tr th {\n",
       "        vertical-align: top;\n",
       "    }\n",
       "\n",
       "    .dataframe thead th {\n",
       "        text-align: right;\n",
       "    }\n",
       "</style>\n",
       "<table border=\"1\" class=\"dataframe\">\n",
       "  <thead>\n",
       "    <tr style=\"text-align: right;\">\n",
       "      <th></th>\n",
       "      <th>text</th>\n",
       "      <th>label</th>\n",
       "    </tr>\n",
       "  </thead>\n",
       "  <tbody>\n",
       "    <tr>\n",
       "      <th>0</th>\n",
       "      <td>cardiolog ancient greek καρδίᾱ kardiā studi he...</td>\n",
       "      <td>medical</td>\n",
       "    </tr>\n",
       "    <tr>\n",
       "      <th>1</th>\n",
       "      <td>neurolog greek νεῦρον neûron string nerv suffi...</td>\n",
       "      <td>medical</td>\n",
       "    </tr>\n",
       "    <tr>\n",
       "      <th>2</th>\n",
       "      <td>oncolog branch medicin deal studi treatment di...</td>\n",
       "      <td>medical</td>\n",
       "    </tr>\n",
       "    <tr>\n",
       "      <th>3</th>\n",
       "      <td>pediatr also spell paediatr pædiatric branch m...</td>\n",
       "      <td>medical</td>\n",
       "    </tr>\n",
       "    <tr>\n",
       "      <th>4</th>\n",
       "      <td>dermatolog branch medicin deal skin special me...</td>\n",
       "      <td>medical</td>\n",
       "    </tr>\n",
       "    <tr>\n",
       "      <th>...</th>\n",
       "      <td>...</td>\n",
       "      <td>...</td>\n",
       "    </tr>\n",
       "    <tr>\n",
       "      <th>66</th>\n",
       "      <td>theatr theater collabor form perform art use l...</td>\n",
       "      <td>non-medical</td>\n",
       "    </tr>\n",
       "    <tr>\n",
       "      <th>67</th>\n",
       "      <td>danc art form often classifi sport consist seq...</td>\n",
       "      <td>non-medical</td>\n",
       "    </tr>\n",
       "    <tr>\n",
       "      <th>68</th>\n",
       "      <td>folklor whole oral tradit share particular gro...</td>\n",
       "      <td>non-medical</td>\n",
       "    </tr>\n",
       "    <tr>\n",
       "      <th>69</th>\n",
       "      <td>librari inform scienc studi li interdisciplina...</td>\n",
       "      <td>non-medical</td>\n",
       "    </tr>\n",
       "    <tr>\n",
       "      <th>70</th>\n",
       "      <td>journal product distribut report interact even...</td>\n",
       "      <td>non-medical</td>\n",
       "    </tr>\n",
       "  </tbody>\n",
       "</table>\n",
       "<p>71 rows × 2 columns</p>\n",
       "</div>"
      ],
      "text/plain": [
       "                                                 text        label\n",
       "0   cardiolog ancient greek καρδίᾱ kardiā studi he...      medical\n",
       "1   neurolog greek νεῦρον neûron string nerv suffi...      medical\n",
       "2   oncolog branch medicin deal studi treatment di...      medical\n",
       "3   pediatr also spell paediatr pædiatric branch m...      medical\n",
       "4   dermatolog branch medicin deal skin special me...      medical\n",
       "..                                                ...          ...\n",
       "66  theatr theater collabor form perform art use l...  non-medical\n",
       "67  danc art form often classifi sport consist seq...  non-medical\n",
       "68  folklor whole oral tradit share particular gro...  non-medical\n",
       "69  librari inform scienc studi li interdisciplina...  non-medical\n",
       "70  journal product distribut report interact even...  non-medical\n",
       "\n",
       "[71 rows x 2 columns]"
      ]
     },
     "execution_count": 20,
     "metadata": {},
     "output_type": "execute_result"
    }
   ],
   "source": [
    "\n",
    "\n",
    "# Initialize NLTK resources\n",
    "nltk.download('punkt')\n",
    "nltk.download('stopwords')\n",
    "\n",
    "# Define user agent and initialize Wikipedia API\n",
    "user_agent = \"MyApp/1.0 (myemail@example.com)\"\n",
    "wiki_wiki = wikipediaapi.Wikipedia(language='en', user_agent=user_agent)\n",
    "\n",
    "def get_wiki_page(title):\n",
    "    page = wiki_wiki.page(title)\n",
    "    return {\n",
    "        \"title\": title,\n",
    "        \"text\": page.text if page.exists() else \"\"\n",
    "    }\n",
    "\n",
    "def preprocess_text(text):\n",
    "    stop_words = set(stopwords.words('english'))\n",
    "    words = word_tokenize(text)\n",
    "    filtered_words = [word for word in words if word.lower() not in stop_words and word.isalpha()]\n",
    "    stemmer = PorterStemmer()\n",
    "    stemmed_words = [stemmer.stem(word) for word in filtered_words]\n",
    "    return ' '.join(stemmed_words)\n",
    "\n",
    "\n",
    "# Collect and preprocess data\n",
    "data = []\n",
    "for topic in medical_topics + non_medical_topics:\n",
    "    page_data = get_wiki_page(topic)\n",
    "    preprocessed_text = preprocess_text(page_data['text'])\n",
    "    label = \"medical\" if topic in medical_topics else \"non-medical\"\n",
    "    data.append({\"text\": preprocessed_text, \"label\": label})\n",
    "\n",
    "# Create a DataFrame\n",
    "df = pd.DataFrame(data)\n",
    "\n",
    "df"
   ]
  },
  {
   "cell_type": "code",
   "execution_count": null,
   "id": "e0e5ea58",
   "metadata": {},
   "outputs": [],
   "source": [
    "df"
   ]
  },
  {
   "cell_type": "code",
   "execution_count": 9,
   "id": "c544ac71",
   "metadata": {},
   "outputs": [
    {
     "name": "stdout",
     "output_type": "stream",
     "text": [
      "<class 'pandas.core.frame.DataFrame'>\n",
      "RangeIndex: 71 entries, 0 to 70\n",
      "Data columns (total 2 columns):\n",
      " #   Column  Non-Null Count  Dtype \n",
      "---  ------  --------------  ----- \n",
      " 0   text    71 non-null     object\n",
      " 1   label   71 non-null     object\n",
      "dtypes: object(2)\n",
      "memory usage: 1.2+ KB\n"
     ]
    }
   ],
   "source": [
    "df.info()"
   ]
  },
  {
   "cell_type": "markdown",
   "id": "c0af610c",
   "metadata": {},
   "source": [
    "### <font color='saddlebrown'>Text Preprocessing: Lemmatization and Sentence Filtering\n",
    "</font>"
   ]
  },
  {
   "cell_type": "code",
   "execution_count": 21,
   "id": "ac553f38",
   "metadata": {},
   "outputs": [],
   "source": [
    "def get_wiki_page(title):\n",
    "    page = wiki_wiki.page(title)\n",
    "    return {\n",
    "        \"title\": title,\n",
    "        \"text\": page.text if page.exists() else \"\"\n",
    "    }\n"
   ]
  },
  {
   "cell_type": "code",
   "execution_count": 22,
   "id": "adaedaef",
   "metadata": {},
   "outputs": [],
   "source": [
    "def get_wordnet_pos(word):\n",
    "    \"\"\"Map POS tag to first character lemmatize() accepts\"\"\"\n",
    "    tag = nltk.pos_tag([word])[0][1][0].upper()\n",
    "    tag_dict = {\"J\": wordnet.ADJ,\n",
    "                \"N\": wordnet.NOUN,\n",
    "                \"V\": wordnet.VERB,\n",
    "                \"R\": wordnet.ADV}\n",
    "    return tag_dict.get(tag, wordnet.NOUN)\n",
    "\"\"\"\n",
    "def preprocess_text(text):\n",
    "    words = word_tokenize(text.lower())\n",
    "    lemmatizer = WordNetLemmatizer()\n",
    "    lemmatized_output = ' '.join([lemmatizer.lemmatize(w, get_wordnet_pos(w)) for w in words if w.isalpha()])\n",
    "    return lemmatized_output\n",
    "\"\"\"\n",
    "\n",
    "\n",
    "def preprocess_text(text):\n",
    "    # Remove non-English characters\n",
    "    text = re.sub(r'[^\\x00-\\x7F]+', ' ', text)\n",
    "\n",
    "    # Break text into sentences and filter out very short sentences\n",
    "    sentences = sent_tokenize(text)\n",
    "    filtered_sentences = [sent for sent in sentences if len(sent.split()) > 3]\n",
    "\n",
    "    return ' '.join(filtered_sentences)\n"
   ]
  },
  {
   "cell_type": "markdown",
   "id": "8f149261",
   "metadata": {},
   "source": [
    "### <font color='saddlebrown'>Building a Medical vs. Non-Medical Text Dataset from Wikipedia\n",
    "</font>"
   ]
  },
  {
   "cell_type": "code",
   "execution_count": 23,
   "id": "59fa703f",
   "metadata": {},
   "outputs": [
    {
     "data": {
      "text/html": [
       "<div>\n",
       "<style scoped>\n",
       "    .dataframe tbody tr th:only-of-type {\n",
       "        vertical-align: middle;\n",
       "    }\n",
       "\n",
       "    .dataframe tbody tr th {\n",
       "        vertical-align: top;\n",
       "    }\n",
       "\n",
       "    .dataframe thead th {\n",
       "        text-align: right;\n",
       "    }\n",
       "</style>\n",
       "<table border=\"1\" class=\"dataframe\">\n",
       "  <thead>\n",
       "    <tr style=\"text-align: right;\">\n",
       "      <th></th>\n",
       "      <th>text</th>\n",
       "      <th>label</th>\n",
       "    </tr>\n",
       "  </thead>\n",
       "  <tbody>\n",
       "    <tr>\n",
       "      <th>0</th>\n",
       "      <td>Cardiology (from Ancient Greek    (kardi ) 'he...</td>\n",
       "      <td>medical</td>\n",
       "    </tr>\n",
       "    <tr>\n",
       "      <th>1</th>\n",
       "      <td>Neurology (from Greek:   (ne ron), \"string, ne...</td>\n",
       "      <td>medical</td>\n",
       "    </tr>\n",
       "    <tr>\n",
       "      <th>2</th>\n",
       "      <td>Oncology is a branch of medicine that deals wi...</td>\n",
       "      <td>medical</td>\n",
       "    </tr>\n",
       "    <tr>\n",
       "      <th>3</th>\n",
       "      <td>Pediatrics (also spelled paediatrics or p diat...</td>\n",
       "      <td>medical</td>\n",
       "    </tr>\n",
       "    <tr>\n",
       "      <th>4</th>\n",
       "      <td>Dermatology is the branch of medicine dealing ...</td>\n",
       "      <td>medical</td>\n",
       "    </tr>\n",
       "    <tr>\n",
       "      <th>...</th>\n",
       "      <td>...</td>\n",
       "      <td>...</td>\n",
       "    </tr>\n",
       "    <tr>\n",
       "      <th>66</th>\n",
       "      <td>Theatre or theater is a collaborative form of ...</td>\n",
       "      <td>non-medical</td>\n",
       "    </tr>\n",
       "    <tr>\n",
       "      <th>67</th>\n",
       "      <td>Dance is an art form, often classified as a sp...</td>\n",
       "      <td>non-medical</td>\n",
       "    </tr>\n",
       "    <tr>\n",
       "      <th>68</th>\n",
       "      <td>Folklore is the whole of oral traditions share...</td>\n",
       "      <td>non-medical</td>\n",
       "    </tr>\n",
       "    <tr>\n",
       "      <th>69</th>\n",
       "      <td>Library and information science(s) or studies ...</td>\n",
       "      <td>non-medical</td>\n",
       "    </tr>\n",
       "    <tr>\n",
       "      <th>70</th>\n",
       "      <td>Journalism is the production and distribution ...</td>\n",
       "      <td>non-medical</td>\n",
       "    </tr>\n",
       "  </tbody>\n",
       "</table>\n",
       "<p>71 rows × 2 columns</p>\n",
       "</div>"
      ],
      "text/plain": [
       "                                                 text        label\n",
       "0   Cardiology (from Ancient Greek    (kardi ) 'he...      medical\n",
       "1   Neurology (from Greek:   (ne ron), \"string, ne...      medical\n",
       "2   Oncology is a branch of medicine that deals wi...      medical\n",
       "3   Pediatrics (also spelled paediatrics or p diat...      medical\n",
       "4   Dermatology is the branch of medicine dealing ...      medical\n",
       "..                                                ...          ...\n",
       "66  Theatre or theater is a collaborative form of ...  non-medical\n",
       "67  Dance is an art form, often classified as a sp...  non-medical\n",
       "68  Folklore is the whole of oral traditions share...  non-medical\n",
       "69  Library and information science(s) or studies ...  non-medical\n",
       "70  Journalism is the production and distribution ...  non-medical\n",
       "\n",
       "[71 rows x 2 columns]"
      ]
     },
     "execution_count": 23,
     "metadata": {},
     "output_type": "execute_result"
    }
   ],
   "source": [
    "\n",
    "data = []\n",
    "for topic in medical_topics + non_medical_topics:\n",
    "    page_data = get_wiki_page(topic)\n",
    "    preprocessed_text = preprocess_text(page_data['text'])\n",
    "    label = \"medical\" if topic in medical_topics else \"non-medical\"\n",
    "    data.append({\"text\": preprocessed_text, \"label\": label})\n",
    "\n",
    "df = pd.DataFrame(data)\n",
    "df"
   ]
  },
  {
   "cell_type": "markdown",
   "id": "2eba2129",
   "metadata": {},
   "source": [
    "### <font color='saddlebrown'>Feature Extraction and Label Encoding for Text Data\n",
    "</font>"
   ]
  },
  {
   "cell_type": "code",
   "execution_count": 25,
   "id": "3767cdb2",
   "metadata": {},
   "outputs": [],
   "source": [
    "# Set up TF-IDF Vectorizer with 5000 features for efficiency\n",
    "vectorizer = TfidfVectorizer(max_features=5000)\n",
    "X = vectorizer.fit_transform(df['text'])  # Convert text data to TF-IDF vectors\n",
    "\n",
    "# Use Label Encoder for converting labels to numeric\n",
    "encoder = LabelEncoder()\n",
    "y = encoder.fit_transform(df['label'])  # Numeric encoding of 'medical' and 'non-medical'\n"
   ]
  },
  {
   "cell_type": "markdown",
   "id": "f9cfb883",
   "metadata": {},
   "source": [
    "### <font color='saddlebrown'>Training a Multinomial Naive Bayes Classifier\n",
    "</font>\n"
   ]
  },
  {
   "cell_type": "code",
   "execution_count": 50,
   "id": "cf64fb13",
   "metadata": {},
   "outputs": [
    {
     "name": "stdout",
     "output_type": "stream",
     "text": [
      "              precision    recall  f1-score   support\n",
      "\n",
      "           0       1.00      0.50      0.67        10\n",
      "           1       0.50      1.00      0.67         5\n",
      "\n",
      "    accuracy                           0.67        15\n",
      "   macro avg       0.75      0.75      0.67        15\n",
      "weighted avg       0.83      0.67      0.67        15\n",
      "\n"
     ]
    }
   ],
   "source": [
    "# Feature Extraction\n",
    "vectorizer = TfidfVectorizer(max_features=5000)\n",
    "X = vectorizer.fit_transform(df['text'])\n",
    "\n",
    "# Label Encoding\n",
    "encoder = LabelEncoder()\n",
    "y = encoder.fit_transform(df['label'])\n",
    "\n",
    "# Splitting the Dataset\n",
    "X_train, X_test, y_train, y_test = train_test_split(X, y, test_size=0.2, random_state=42)\n",
    "\n",
    "# Model Training\n",
    "model = MultinomialNB()\n",
    "model.fit(X_train, y_train)\n",
    "\n",
    "# Model Evaluation\n",
    "y_pred = model.predict(X_test)\n",
    "print(classification_report(y_test, y_pred))\n"
   ]
  },
  {
   "cell_type": "code",
   "execution_count": 51,
   "id": "bbbf96bb",
   "metadata": {},
   "outputs": [
    {
     "name": "stderr",
     "output_type": "stream",
     "text": [
      "/home/melak/anaconda3/envs/nlp-env/lib/python3.11/site-packages/sklearn/discriminant_analysis.py:935: UserWarning: Variables are collinear\n",
      "  warnings.warn(\"Variables are collinear\")\n"
     ]
    },
    {
     "name": "stdout",
     "output_type": "stream",
     "text": [
      "Model                               Precision  Recall     F1 Score   Accuracy  \n",
      "MultinomialNB                       0.83       0.67       0.67       0.67      \n",
      "LogisticRegression                  0.77       0.73       0.74       0.73      \n",
      "KNeighborsClassifier                0.82       0.60       0.59       0.60      \n",
      "DecisionTreeClassifier              0.87       0.87       0.87       0.87      \n",
      "SVC                                 0.94       0.93       0.93       0.93      \n",
      "RandomForestClassifier              1.00       1.00       1.00       1.00      \n",
      "RidgeClassifier                     0.87       0.87       0.87       0.87      \n",
      "GaussianNB                          0.94       0.93       0.93       0.93      \n",
      "QuadraticDiscriminantAnalysis       0.67       0.53       0.53       0.53      \n",
      "AdaBoostClassifier                  1.00       1.00       1.00       1.00      \n",
      "BaggingClassifier                   0.87       0.87       0.87       0.87      \n",
      "GradientBoostingClassifier          0.87       0.87       0.87       0.87      \n"
     ]
    }
   ],
   "source": [
    "# Define a dictionary of models, now including additional classifiers\n",
    "models = {\n",
    "    'MultinomialNB': MultinomialNB(),\n",
    "    'LogisticRegression': LogisticRegression(),\n",
    "    'KNeighborsClassifier': KNeighborsClassifier(),\n",
    "    'DecisionTreeClassifier': DecisionTreeClassifier(),\n",
    "    'SVC': SVC(),\n",
    "    'RandomForestClassifier': RandomForestClassifier(),\n",
    "    'RidgeClassifier': RidgeClassifier(),\n",
    "    'GaussianNB': GaussianNB(),\n",
    "    'QuadraticDiscriminantAnalysis': QuadraticDiscriminantAnalysis(),\n",
    "    'AdaBoostClassifier': AdaBoostClassifier(),\n",
    "    'BaggingClassifier': BaggingClassifier(n_estimators=1000),\n",
    "    'GradientBoostingClassifier': GradientBoostingClassifier(),\n",
    "    # Add other models as needed\n",
    "}\n",
    "\n",
    "# Initialize an empty list to store model performance metrics\n",
    "model_metrics = []\n",
    "\n",
    "# Evaluate each model\n",
    "for name, model in models.items():\n",
    "    # Fit the model and predict\n",
    "    if name in ['GaussianNB', 'QuadraticDiscriminantAnalysis']:\n",
    "        model.fit(X_train.toarray(), y_train)\n",
    "        y_pred = model.predict(X_test.toarray())\n",
    "    else:\n",
    "        model.fit(X_train, y_train)\n",
    "        y_pred = model.predict(X_test)\n",
    "\n",
    "    # Calculate performance metrics\n",
    "    precision = precision_score(y_test, y_pred, average='weighted')\n",
    "    recall = recall_score(y_test, y_pred, average='weighted')\n",
    "    f1 = f1_score(y_test, y_pred, average='weighted')\n",
    "    accuracy = accuracy_score(y_test, y_pred)\n",
    "\n",
    "    # Append metrics to the list\n",
    "    model_metrics.append([name, precision, recall, f1, accuracy])\n",
    "\n",
    "# Print the metrics in a table format\n",
    "print(f\"{'Model':<35} {'Precision':<10} {'Recall':<10} {'F1 Score':<10} {'Accuracy':<10}\")\n",
    "for metric in model_metrics:\n",
    "    print(f\"{metric[0]:<35} {metric[1]:<10.2f} {metric[2]:<10.2f} {metric[3]:<10.2f} {metric[4]:<10.2f}\")\n"
   ]
  },
  {
   "cell_type": "markdown",
   "id": "dacc7f80",
   "metadata": {},
   "source": [
    "### <font color='saddlebrown'>HyperParameter Tuning\n",
    "</font>\n"
   ]
  },
  {
   "cell_type": "code",
   "execution_count": null,
   "id": "815e85d4",
   "metadata": {},
   "outputs": [],
   "source": []
  },
  {
   "cell_type": "markdown",
   "id": "0d07b852",
   "metadata": {},
   "source": [
    "### <font color='saddlebrown'>Save Best Model\n",
    "</font>\n"
   ]
  },
  {
   "cell_type": "code",
   "execution_count": 33,
   "id": "385afe82",
   "metadata": {},
   "outputs": [],
   "source": [
    "pickle.dump(model, open(f\"../models/text_classifier_model.pkl\", 'wb'))"
   ]
  },
  {
   "cell_type": "code",
   "execution_count": null,
   "id": "9c064458",
   "metadata": {},
   "outputs": [],
   "source": []
  },
  {
   "cell_type": "code",
   "execution_count": null,
   "id": "518d598f",
   "metadata": {},
   "outputs": [],
   "source": []
  },
  {
   "cell_type": "code",
   "execution_count": null,
   "id": "1e67e9bd",
   "metadata": {},
   "outputs": [],
   "source": []
  }
 ],
 "metadata": {
  "kernelspec": {
   "display_name": "nlp",
   "language": "python",
   "name": "nlp"
  },
  "language_info": {
   "codemirror_mode": {
    "name": "ipython",
    "version": 3
   },
   "file_extension": ".py",
   "mimetype": "text/x-python",
   "name": "python",
   "nbconvert_exporter": "python",
   "pygments_lexer": "ipython3",
   "version": "3.11.5"
  }
 },
 "nbformat": 4,
 "nbformat_minor": 5
}
